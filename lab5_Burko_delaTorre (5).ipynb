{
 "cells": [
  {
   "cell_type": "code",
   "execution_count": 3,
   "metadata": {},
   "outputs": [],
   "source": [
    "import QPGC\n",
    "import numpy as np"
   ]
  },
  {
   "cell_type": "code",
   "execution_count": 4,
   "metadata": {},
   "outputs": [
    {
     "name": "stdout",
     "output_type": "stream",
     "text": [
      "Help on function QPGenericConstraints in module QPGC:\n",
      "\n",
      "QPGenericConstraints(G, g, A, C, b, d)\n",
      "    Convex optimization problem with equality and inequality constraints:\n",
      "     \n",
      "               min f(x)=1/2 x^T G X + g^T x     s.t.   A^T x = b i C^T x >= d\n",
      "    \n",
      "    Call it with:\n",
      "    \n",
      "    x = QPGenericConstrains(G, g, A, C, b, d)\n",
      "    \n",
      "    Notation:\n",
      "    \n",
      "    n = number of variables\n",
      "    p = number of equality constants\n",
      "    m = number of inequality constants\n",
      "     \n",
      "    Dimensions:   G -> n x n\n",
      "                  g -> n x 1\n",
      "                  A -> n x p\n",
      "                  C -> n x m\n",
      "                  b -> p x 1  \n",
      "                  d -> m x 1\n",
      "\n"
     ]
    }
   ],
   "source": [
    "help(QPGC.QPGenericConstraints)\n",
    "\n",
    "# x = QPGC.QPGenericConstraints(G, g, A, C, b, d)"
   ]
  },
  {
   "cell_type": "markdown",
   "metadata": {},
   "source": [
    "## 2 Implementation of the dual formulation"
   ]
  },
  {
   "cell_type": "code",
   "execution_count": 14,
   "metadata": {},
   "outputs": [],
   "source": [
    "# sample data \n",
    "\n",
    "X = np.array([[0, 1, 1, 2], [1, 0, 1, 1]])\n",
    "y = np.array([-1, -1, 1, 1])\n",
    "Y = np.diag(y)"
   ]
  },
  {
   "cell_type": "code",
   "execution_count": 15,
   "metadata": {},
   "outputs": [
    {
     "data": {
      "text/plain": [
       "array([[-1,  0,  0,  0],\n",
       "       [ 0, -1,  0,  0],\n",
       "       [ 0,  0,  1,  0],\n",
       "       [ 0,  0,  0,  1]])"
      ]
     },
     "execution_count": 15,
     "metadata": {},
     "output_type": "execute_result"
    }
   ],
   "source": [
    "Y"
   ]
  },
  {
   "cell_type": "code",
   "execution_count": 22,
   "metadata": {},
   "outputs": [],
   "source": [
    "# associations between problem and QPGC general case\n",
    "# constraints \n",
    "A = np.expand_dims(y, axis=1)\n",
    "b = np.array([0])\n",
    "# x = alpha\n",
    "\n",
    "m = len(Y)\n",
    "K=1\n",
    "d = np.concatenate((np.repeat(0, m), np.repeat(-K, m)))\n",
    "C = np.concatenate((np.eye(m), -np.eye(m)), axis=1)\n",
    "G = Y@X.T@X@Y\n",
    "# g = np.expand_dims(np.ones(m), axis=1)\n",
    "g = np.ones(m)"
   ]
  },
  {
   "cell_type": "code",
   "execution_count": 25,
   "metadata": {},
   "outputs": [
    {
     "name": "stdout",
     "output_type": "stream",
     "text": [
      "(4, 4)\n",
      "(4, 1)\n",
      "(4, 8)\n",
      "(4,)\n",
      "(8,)\n",
      "(1,)\n"
     ]
    }
   ],
   "source": [
    "print(G.shape)\n",
    "print(A.shape)\n",
    "print(C.shape)\n",
    "print(g.shape)\n",
    "print(d.shape)\n",
    "print(b.shape)\n"
   ]
  },
  {
   "cell_type": "code",
   "execution_count": 24,
   "metadata": {},
   "outputs": [
    {
     "data": {
      "text/plain": [
       "array([5.84338243e-15, 5.98076792e-15, 4.32214307e-15, 7.54034265e-15])"
      ]
     },
     "execution_count": 24,
     "metadata": {},
     "output_type": "execute_result"
    }
   ],
   "source": [
    " x = QPGC.QPGenericConstraints(G, g, A, C, b, d)\n",
    " x"
   ]
  },
  {
   "cell_type": "code",
   "execution_count": null,
   "metadata": {},
   "outputs": [],
   "source": []
  }
 ],
 "metadata": {
  "interpreter": {
   "hash": "1baa965d5efe3ac65b79dfc60c0d706280b1da80fedb7760faf2759126c4f253"
  },
  "kernelspec": {
   "display_name": "Python 3",
   "language": "python",
   "name": "python3"
  },
  "language_info": {
   "codemirror_mode": {
    "name": "ipython",
    "version": 3
   },
   "file_extension": ".py",
   "mimetype": "text/x-python",
   "name": "python",
   "nbconvert_exporter": "python",
   "pygments_lexer": "ipython3",
   "version": "3.8.3"
  }
 },
 "nbformat": 4,
 "nbformat_minor": 2
}
