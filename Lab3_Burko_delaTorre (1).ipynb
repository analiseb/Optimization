{
 "cells": [
  {
   "cell_type": "markdown",
   "metadata": {},
   "source": [
    "# Linear regression using robust functions\n",
    "\n",
    "\n",
    "## 1. Introduction"
   ]
  },
  {
   "cell_type": "markdown",
   "metadata": {},
   "source": [
    "### 1.1. Implement the proposed method using gradient descent with backtracking (or a small constant α value). You may check your method with a randomly generated set of points."
   ]
  },
  {
   "cell_type": "code",
   "execution_count": 1,
   "metadata": {},
   "outputs": [],
   "source": [
    "import numpy as np\n",
    "import math as math\n",
    "%matplotlib inline\n",
    "import matplotlib\n",
    "import matplotlib.pyplot as plt "
   ]
  },
  {
   "cell_type": "code",
   "execution_count": 2,
   "metadata": {},
   "outputs": [],
   "source": [
    "# Generate data\n",
    "\n",
    "np.random.seed = 1234\n",
    "\n",
    "m = [0.,0.]\n",
    "angle = 45*math.pi/180\n",
    "rot = np.array([[math.cos(angle), -math.sin(angle)], \n",
    "                [math.sin(angle), math.cos(angle)]])\n",
    "lamb = np.array([[100,0],[0,1]])\n",
    "s = np.matmul(rot, np.matmul(lamb, rot.transpose()))\n",
    "c = np.random.multivariate_normal(m,s,100)\n",
    "data1 = c"
   ]
  },
  {
   "cell_type": "code",
   "execution_count": 3,
   "metadata": {},
   "outputs": [
    {
     "data": {
      "text/plain": [
       "array([[50.5, 49.5],\n",
       "       [49.5, 50.5]])"
      ]
     },
     "execution_count": 3,
     "metadata": {},
     "output_type": "execute_result"
    }
   ],
   "source": [
    "s"
   ]
  },
  {
   "cell_type": "markdown",
   "metadata": {},
   "source": [
    "#### Function to implementing backtracking gradient descent"
   ]
  },
  {
   "cell_type": "code",
   "execution_count": 4,
   "metadata": {},
   "outputs": [],
   "source": [
    "def minimize_backtracking_descent(x_initial, func, grad_func, convergence_criterion=1e-6):\n",
    "    ''' Find a minimum of funcion \"func\" using backtracking gradient descent '''\n",
    "\n",
    "    # Initial value\n",
    "    x_new = x_initial\n",
    "    F_new = func(x_new)\n",
    "\n",
    "    # Iterate until end condition is met or we reach 5000 iterations (to prevent infinite loops)\n",
    "    for num_iter in range(5000):\n",
    "        x = x_new\n",
    "        F = F_new\n",
    "        \n",
    "        # Compute gradient \n",
    "        dx = grad_func(x)\n",
    "\n",
    "        alpha=10\n",
    "        # Inner loop to choose an alpha value, maximum 20 iterations (alpha will be divided by 2**40, approx. 1e12)\n",
    "        for j in range(80):\n",
    "            x_new = x - alpha*dx\n",
    "            F_new = func(x_new)\n",
    "            # print('num_iter={} alpha={} F={}, F_new={}, x_new={}'.format(num_iter, alpha, F, F_new, x_new))\n",
    "            # Repeat until reducing alpha makes F decrease\n",
    "            if F_new<F:\n",
    "                break\n",
    "            alpha = alpha/2\n",
    "        # End of inner loop\n",
    "        \n",
    "        # Repeat until the gradient size is less than a defined threshold\n",
    "        if (dx[0]**2 + dx[1]**2) < convergence_criterion:\n",
    "            break\n",
    "    # End of outer loop\n",
    "    \n",
    "    return x_new"
   ]
  },
  {
   "cell_type": "markdown",
   "metadata": {},
   "source": [
    "#### Regression using least squares"
   ]
  },
  {
   "cell_type": "code",
   "execution_count": 5,
   "metadata": {},
   "outputs": [],
   "source": [
    "def error_leastsq(e):\n",
    "    return e**2 / 2\n",
    "\n",
    "def func_leastsq(w, data):\n",
    "    '''Least squares error for the regression line defined by parameter vector w and the data points (x,y)'''\n",
    "    data_x = data[:,0]\n",
    "    data_y = data[:,1]\n",
    "    \n",
    "    e = w[0]*data_x + w[1] - data_y\n",
    "    return np.sum( error_leastsq(e) )\n",
    "    \n",
    "def grad_leastsq(w, data):\n",
    "    '''Gradient of function leastsq respect to vector w'''\n",
    "    data_x = data[:,0]\n",
    "    data_y = data[:,1]\n",
    "\n",
    "    e = w[0]*data_x + w[1] - data_y\n",
    "    grad_w0 = np.sum( data_x * e )\n",
    "    grad_w1 = np.sum( e )\n",
    "    return np.array([grad_w0, grad_w1], dtype=float)\n"
   ]
  },
  {
   "cell_type": "code",
   "execution_count": 6,
   "metadata": {},
   "outputs": [
    {
     "name": "stdout",
     "output_type": "stream",
     "text": [
      "Regression parameters: [ 0.99120144 -0.06650279]\n"
     ]
    },
    {
     "data": {
      "image/png": "[encoded data removed]",
      "text/plain": [
       "<Figure size 432x288 with 1 Axes>"
      ]
     },
     "metadata": {
      "needs_background": "light"
     },
     "output_type": "display_data"
    }
   ],
   "source": [
    "def func_f(w):\n",
    "    return func_leastsq(w, data1)\n",
    "def grad_f(w):\n",
    "    return grad_leastsq(w, data1)\n",
    "    \n",
    "w_leastsq_nooutliers = minimize_backtracking_descent([0,0], func_f, grad_f)\n",
    "print('Regression parameters:', w_leastsq_nooutliers)\n",
    "\n",
    "# Scatter plot with regression line\n",
    "data_x = data1[:,0]\n",
    "data_y = data1[:,1]\n",
    "plt.plot(data_x, data_y, '.')\n",
    "plt.plot(data_x, w_leastsq_nooutliers[1] + w_leastsq_nooutliers[0] * data_x, '-')\n",
    "plt.show()"
   ]
  },
  {
   "cell_type": "markdown",
   "metadata": {},
   "source": [
    "### 1.2. Check the sensitivity of the method to outliers"
   ]
  },
  {
   "cell_type": "code",
   "execution_count": 7,
   "metadata": {},
   "outputs": [],
   "source": [
    "# Create outlier to check how it impacts the estimated parameters\n",
    "data2 = np.copy(data1)\n",
    "data2[1] = [-40,20]"
   ]
  },
  {
   "cell_type": "code",
   "execution_count": 8,
   "metadata": {},
   "outputs": [
    {
     "name": "stdout",
     "output_type": "stream",
     "text": [
      "Regression parameters: [0.65609776 0.22862139]\n"
     ]
    },
    {
     "data": {
      "image/png": "[encoded data removed]",
      "text/plain": [
       "<Figure size 432x288 with 1 Axes>"
      ]
     },
     "metadata": {
      "needs_background": "light"
     },
     "output_type": "display_data"
    }
   ],
   "source": [
    "def func_f(w):\n",
    "    return func_leastsq(w, data2)\n",
    "def grad_f(w):\n",
    "    return grad_leastsq(w, data2)\n",
    "    \n",
    "w_leastsq_1_outlier = minimize_backtracking_descent([0,0], func_f, grad_f)\n",
    "print('Regression parameters:', w_leastsq_1_outlier)\n",
    "\n",
    "# Scatter plot with regression line\n",
    "data_x = data2[:,0]\n",
    "data_y = data2[:,1]\n",
    "plt.plot(data_x, data_y, '.')\n",
    "plt.plot(data_x, w_leastsq_1_outlier[1] + w_leastsq_1_outlier[0] * data_x, '-')\n",
    "plt.show()"
   ]
  },
  {
   "cell_type": "markdown",
   "metadata": {},
   "source": [
    "**Comment:** We see that the regression using least squares can be very sensitive to just one large outlier."
   ]
  },
  {
   "cell_type": "markdown",
   "metadata": {},
   "source": [
    "Now we check what happens if we have a large number of outliers, say 10% of the data."
   ]
  },
  {
   "cell_type": "code",
   "execution_count": 41,
   "metadata": {},
   "outputs": [
    {
     "data": {
      "text/plain": [
       "array([[ 0.,  0.],\n",
       "       [ 0., 20.],\n",
       "       [ 0., 20.],\n",
       "       [ 0.,  0.],\n",
       "       [ 0.,  0.],\n",
       "       [ 0.,  0.],\n",
       "       [ 0.,  0.],\n",
       "       [ 0., 20.],\n",
       "       [ 0.,  0.],\n",
       "       [ 0.,  0.],\n",
       "       [ 0.,  0.],\n",
       "       [ 0.,  0.],\n",
       "       [ 0., 20.],\n",
       "       [ 0.,  0.],\n",
       "       [ 0., 20.],\n",
       "       [ 0., 20.],\n",
       "       [ 0.,  0.],\n",
       "       [ 0., 20.],\n",
       "       [ 0.,  0.],\n",
       "       [ 0., 20.]])"
      ]
     },
     "execution_count": 41,
     "metadata": {},
     "output_type": "execute_result"
    }
   ],
   "source": [
    "np.random.seed = 2345\n",
    "\n",
    "# Alter the x value for 20% of the points\n",
    "noise = np.zeros(data1.shape, dtype=float)\n",
    "for i in range(len(data1)):\n",
    "    if np.random.random() < 0.2:\n",
    "        noise[i,1] = +20\n",
    "data3 = data1 + noise\n",
    "\n",
    "# Alter the y value for 40% of the points\n",
    "noise = np.zeros(data1.shape, dtype=float)\n",
    "for i in range(len(data1)):\n",
    "    if np.random.random() < 0.4:\n",
    "        noise[i,1] = +20\n",
    "data4 = data1 + noise\n",
    "noise[0:20]"
   ]
  },
  {
   "cell_type": "code",
   "execution_count": 42,
   "metadata": {
    "scrolled": true
   },
   "outputs": [
    {
     "name": "stdout",
     "output_type": "stream",
     "text": [
      "Regression parameters: [0.98586858 4.93125933]\n"
     ]
    },
    {
     "data": {
      "image/png": "[encoded data removed]",
      "text/plain": [
       "<Figure size 432x288 with 1 Axes>"
      ]
     },
     "metadata": {
      "needs_background": "light"
     },
     "output_type": "display_data"
    }
   ],
   "source": [
    "def func_f(w):\n",
    "    return func_leastsq(w, data3)\n",
    "def grad_f(w):\n",
    "    return grad_leastsq(w, data3)\n",
    "    \n",
    "w_leastsq_noise20pct = minimize_backtracking_descent([0,0], func_f, grad_f)\n",
    "print('Regression parameters:', w_leastsq_noise20pct)\n",
    "\n",
    "# Scatter plot with regression line\n",
    "data_x = data3[:,0]\n",
    "data_y = data3[:,1]\n",
    "plt.plot(data_x, data_y, '.')\n",
    "plt.plot(data_x, w_leastsq_noise20pct[1] + w_leastsq_noise20pct[0] * data_x, '-')\n",
    "plt.show()"
   ]
  },
  {
   "cell_type": "markdown",
   "metadata": {},
   "source": [
    "**Comment:** In data with a 20% of outliers, the regression using least squares error is not useful."
   ]
  },
  {
   "cell_type": "markdown",
   "metadata": {},
   "source": [
    "# 2. Robust functions"
   ]
  },
  {
   "cell_type": "markdown",
   "metadata": {},
   "source": [
    "### 2.1. Plot the least squares function and compare it with the Cauchy function"
   ]
  },
  {
   "cell_type": "code",
   "execution_count": 43,
   "metadata": {},
   "outputs": [],
   "source": [
    "def error_cauchy(e, c_constant=1):\n",
    "    return c_constant**2/2 * np.log( 1 + (1/c_constant * e)**2 )\n",
    "\n",
    "def func_cauchy(w, data, c_constant=1):\n",
    "    '''Mean squared error for the regression line defined by vector w and the points in vectors (x,y)'''\n",
    "    data_x = data[:,0]\n",
    "    data_y = data[:,1]\n",
    "\n",
    "    e = w[0]*data_x + w[1] - data_y\n",
    "    return np.sum( error_cauchy(e, c_constant) )\n",
    "    \n",
    "def grad_cauchy(w, data, c_constant=1):\n",
    "    '''Gradient of function respect to vector w'''\n",
    "    data_x = data[:,0]\n",
    "    data_y = data[:,1]\n",
    "\n",
    "    e = w[0]*data_x + w[1] - data_y\n",
    "    \n",
    "    grad_w0 = 0\n",
    "    grad_w1 = 0\n",
    "    for i in range(len(e)):\n",
    "        grad_w0 += data_x[i] * e[i] / ( 1 + (e[i]/c_constant)**2 )\n",
    "        grad_w1 +=             e[i] / ( 1 + (e[i]/c_constant)**2 )\n",
    "        \n",
    "    return np.array([grad_w0, grad_w1], dtype=float)\n"
   ]
  },
  {
   "cell_type": "code",
   "execution_count": 44,
   "metadata": {
    "scrolled": true
   },
   "outputs": [
    {
     "data": {
      "image/png": "[encoded data removed]",
      "text/plain": [
       "<Figure size 432x288 with 1 Axes>"
      ]
     },
     "metadata": {
      "needs_background": "light"
     },
     "output_type": "display_data"
    }
   ],
   "source": [
    "def plot_function(f, f2=None, x_from=-5, x_to=5):\n",
    "    x = np.linspace(x_from, x_to, 100)\n",
    "    y1 = f(x)\n",
    "    if f2 != None:\n",
    "        y2 = f2(x)\n",
    "    \n",
    "    # setting the axes at the centre\n",
    "    fig = plt.figure()\n",
    "    ax = fig.add_subplot(1, 1, 1)\n",
    "    ax.spines['left'].set_position('center')\n",
    "    ax.spines['bottom'].set_position('zero')\n",
    "    ax.spines['right'].set_color('none')\n",
    "    ax.spines['top'].set_color('none')\n",
    "    ax.xaxis.set_ticks_position('bottom')\n",
    "    ax.yaxis.set_ticks_position('left')\n",
    "\n",
    "    # plot the functions\n",
    "    plt.plot(x, y1, 'b')\n",
    "    if f2 != None:\n",
    "        plt.plot(x, y2, 'r')\n",
    "\n",
    "    # show the plot\n",
    "    plt.show()\n",
    "    \n",
    "plot_function(f=error_leastsq, f2=error_cauchy)\n",
    "\n"
   ]
  },
  {
   "cell_type": "markdown",
   "metadata": {},
   "source": [
    "**Comment:** The Cauchy function is similar to the least squares funcion for values arround 0. For larger values, least squares grows much faster (quadratically), while Cauchy becomes almost flat. This may help when dealing with outliers, as these will not receive a disproporcionate weight."
   ]
  },
  {
   "cell_type": "markdown",
   "metadata": {},
   "source": [
    "### 2.2. Regression parameters using Cauchy function"
   ]
  },
  {
   "cell_type": "code",
   "execution_count": 45,
   "metadata": {},
   "outputs": [
    {
     "name": "stdout",
     "output_type": "stream",
     "text": [
      "Regression parameters: [ 1.01095902 -0.22618391]\n"
     ]
    }
   ],
   "source": [
    "def func_f(w):\n",
    "    return func_cauchy(w, data1)\n",
    "def grad_f(w):\n",
    "    return grad_cauchy(w, data1)\n",
    "    \n",
    "w_cauchy_no_outliers = minimize_backtracking_descent([0,0], func_f, grad_f)\n",
    "print('Regression parameters:', w_cauchy_no_outliers)"
   ]
  },
  {
   "cell_type": "markdown",
   "metadata": {},
   "source": [
    "### 2.3. Compare the results you obtain with the least squares function and the Cauchy function assuming that no outliers are in the dataset"
   ]
  },
  {
   "cell_type": "code",
   "execution_count": 46,
   "metadata": {},
   "outputs": [
    {
     "name": "stdout",
     "output_type": "stream",
     "text": [
      "Comparison for data with no outliers\n",
      "Using least squares: [ 0.99120144 -0.06650279]\n",
      "Using cauchy: [ 1.01095902 -0.22618391]\n"
     ]
    }
   ],
   "source": [
    "print('Comparison for data with no outliers')\n",
    "print('Using least squares:', w_leastsq_nooutliers)\n",
    "print('Using cauchy:', w_cauchy_no_outliers)\n"
   ]
  },
  {
   "cell_type": "markdown",
   "metadata": {},
   "source": [
    "The result is very similar using least squares and using Cauchy."
   ]
  },
  {
   "cell_type": "markdown",
   "metadata": {},
   "source": [
    "### 2.4. Compare now the results with only one outlier"
   ]
  },
  {
   "cell_type": "code",
   "execution_count": 47,
   "metadata": {},
   "outputs": [
    {
     "name": "stdout",
     "output_type": "stream",
     "text": [
      "Regression parameters: [ 1.01387061 -0.20452204]\n"
     ]
    },
    {
     "data": {
      "image/png": "[encoded data removed]",
      "text/plain": [
       "<Figure size 432x288 with 1 Axes>"
      ]
     },
     "metadata": {
      "needs_background": "light"
     },
     "output_type": "display_data"
    }
   ],
   "source": [
    "def func_f(w):\n",
    "    return func_cauchy(w, data2)\n",
    "def grad_f(w):\n",
    "    return grad_cauchy(w, data2)\n",
    "    \n",
    "w_cauchy_1_outlier = minimize_backtracking_descent([0,0], func_f, grad_f)\n",
    "print('Regression parameters:', w_cauchy_1_outlier)\n",
    "\n",
    "# Scatter plot with regression line\n",
    "data_x = data2[:,0]\n",
    "data_y = data2[:,1]\n",
    "plt.plot(data_x, data_y, '.')\n",
    "plt.plot(data_x, w_cauchy_1_outlier[1] + w_cauchy_1_outlier[0] * data_x, '-')\n",
    "plt.show()"
   ]
  },
  {
   "cell_type": "code",
   "execution_count": 48,
   "metadata": {},
   "outputs": [
    {
     "name": "stdout",
     "output_type": "stream",
     "text": [
      "Comparison for data with 1 outlier\n",
      "Using least squares: [0.65609776 0.22862139]\n",
      "Using cauchy: [ 1.01387061 -0.20452204]\n"
     ]
    }
   ],
   "source": [
    "print('Comparison for data with 1 outlier')\n",
    "print('Using least squares:', w_leastsq_1_outlier)\n",
    "print('Using cauchy:', w_cauchy_1_outlier)"
   ]
  },
  {
   "cell_type": "markdown",
   "metadata": {},
   "source": [
    "With one outlier, using Cauchy is much more robust than using least squares."
   ]
  },
  {
   "cell_type": "markdown",
   "metadata": {},
   "source": [
    "### 2.5. Test the influence of the parameter c in the obtained regression.\n",
    "\n",
    "You may, for instance, check\n",
    "the results obtained with c = 1, c = 100, c = 1/100 and c = 1/1000. Can you reason why\n",
    "these results are obtained? To do this, you are recommended to compare the corresponding\n",
    "ρ(u) functions."
   ]
  },
  {
   "cell_type": "code",
   "execution_count": 49,
   "metadata": {
    "scrolled": true
   },
   "outputs": [
    {
     "name": "stdout",
     "output_type": "stream",
     "text": [
      "Regression parameters: [0.70645125 0.18473684]\n"
     ]
    },
    {
     "data": {
      "image/png": "[encoded data removed]",
      "text/plain": [
       "<Figure size 432x288 with 1 Axes>"
      ]
     },
     "metadata": {
      "needs_background": "light"
     },
     "output_type": "display_data"
    }
   ],
   "source": [
    "# Cauchy with c_constant=100\n",
    "\n",
    "def func_f(w):\n",
    "    return func_cauchy(w, data2, c_constant=100)\n",
    "def grad_f(w):\n",
    "    return grad_cauchy(w, data2, c_constant=100)\n",
    "    \n",
    "w_cauchy100_1_outlier = minimize_backtracking_descent([0,0], func_f, grad_f)\n",
    "print('Regression parameters:', w_cauchy100_1_outlier)\n",
    "\n",
    "plot_function(lambda x: error_cauchy(x, c_constant=100))"
   ]
  },
  {
   "cell_type": "markdown",
   "metadata": {},
   "source": [
    "**Comment:** At the order of magnitude of the data points, the Cauchy function with C=100 is almost equivalent to the least squares function. Therefore, as it happens with least squares, the regression is not robust to outliers."
   ]
  },
  {
   "cell_type": "code",
   "execution_count": 50,
   "metadata": {
    "scrolled": true
   },
   "outputs": [
    {
     "name": "stdout",
     "output_type": "stream",
     "text": [
      "Regression parameters: [ 1.05325632 -0.30373185]\n"
     ]
    },
    {
     "data": {
      "image/png": "[encoded data removed]",
      "text/plain": [
       "<Figure size 432x288 with 1 Axes>"
      ]
     },
     "metadata": {
      "needs_background": "light"
     },
     "output_type": "display_data"
    }
   ],
   "source": [
    "# Cauchy with c_constant=0.01\n",
    "\n",
    "def func_f(w):\n",
    "    return func_cauchy(w, data2, c_constant=0.01)\n",
    "def grad_f(w):\n",
    "    return grad_cauchy(w, data2, c_constant=0.01)\n",
    "    \n",
    "w_cauchy_dot01_1_outlier = minimize_backtracking_descent([0,0], func_f, grad_f)\n",
    "print('Regression parameters:', w_cauchy_dot01_1_outlier)\n",
    "\n",
    "# Scatter plot with regression line\n",
    "data_x = data2[:,0]\n",
    "data_y = data2[:,1]\n",
    "plt.plot(data_x, data_y, '.')\n",
    "plt.plot(data_x, w_cauchy_dot01_1_outlier[1] + w_cauchy_dot01_1_outlier[0] * data_x, '-')\n",
    "plt.show()"
   ]
  },
  {
   "cell_type": "code",
   "execution_count": 51,
   "metadata": {},
   "outputs": [
    {
     "name": "stdout",
     "output_type": "stream",
     "text": [
      "Regression parameters: [0.24882934 0.12273076]\n"
     ]
    }
   ],
   "source": [
    "# Cauchy with c_constant=0.001\n",
    "\n",
    "def func_f(w):\n",
    "    return func_cauchy(w, data2, c_constant=0.001)\n",
    "def grad_f(w):\n",
    "    return grad_cauchy(w, data2, c_constant=0.001)\n",
    "    \n",
    "w_cauchy_dot001_1_outlier = minimize_backtracking_descent([0,0], func_f, grad_f, convergence_criterion=1e-12)\n",
    "print('Regression parameters:', w_cauchy_dot001_1_outlier)\n",
    "\n",
    "# Note: The convergence criterion had to be set to a very small value in order to achieve convergence. \n",
    "# The reason is that the values of the gradient are very small."
   ]
  },
  {
   "cell_type": "code",
   "execution_count": 52,
   "metadata": {},
   "outputs": [
    {
     "data": {
      "image/png": "[encoded data removed]",
      "text/plain": [
       "<Figure size 432x288 with 1 Axes>"
      ]
     },
     "metadata": {
      "needs_background": "light"
     },
     "output_type": "display_data"
    }
   ],
   "source": [
    "# Plot of Cauchy functions with c=0.01 and c=0.001\n",
    "plot_function(f =lambda x: error_cauchy(x, c_constant=0.01), \n",
    "              f2=lambda x: error_cauchy(x, c_constant=0.001))"
   ]
  },
  {
   "cell_type": "markdown",
   "metadata": {},
   "source": [
    "**Comment:** When using the Cauchy function with a parameter c=0.01, the function gets almost flat for values beyond +-3. This means that very large errors have almost the same weight as relatively small errors. The resulting regression model does not seem very useful.\n",
    "\n",
    "If the parameter is c=0.001, the curve is very flat starting on points very close to 0."
   ]
  },
  {
   "cell_type": "markdown",
   "metadata": {},
   "source": [
    "**Conclusions:** \n",
    "\n",
    "The least squares function gives great importance to points that are far from zero. This causes outliers to have a large impact on the parameter estimation of the regression.\n",
    "\n",
    "The Cauchy function behaves in a very similar way to the least squares function for points close to zero. However, for points that are further from zero the growth is much smaller. At what distance from zero this behaviour changes, depends on the Cauchy parameter c.\n",
    "\n",
    "With c=100, the Cauchy function looks almost the same as the x^2 function in the range (-10,10). As this is the order of magnitude in which the outlier falls, the outlier has a high impact, as it did with least squares.\n",
    "\n",
    "With c=1, as we saw before, the Cauchy function gives much less importance to the outlier. This is a good choice of the parameter if we want a robust regression with the data we have.\n",
    "\n",
    "With c=0.01 and less, the Cauchy function is not helpful to calculate a regression on this data because it discriminates too little between medium and large errors."
   ]
  },
  {
   "cell_type": "markdown",
   "metadata": {},
   "source": [
    "### 2.6. Introduce more outliers and use c = 1 and c = 1/100"
   ]
  },
  {
   "cell_type": "markdown",
   "metadata": {},
   "source": [
    "On the previously generated set \"data3\", that has a 20% of outliers, we will fit a regression using Cauchy with c=1"
   ]
  },
  {
   "cell_type": "code",
   "execution_count": 53,
   "metadata": {},
   "outputs": [
    {
     "name": "stdout",
     "output_type": "stream",
     "text": [
      "Regression parameters: [ 0.98487798 -0.26467137]\n"
     ]
    },
    {
     "data": {
      "image/png": "[encoded data removed]",
      "text/plain": [
       "<Figure size 432x288 with 1 Axes>"
      ]
     },
     "metadata": {
      "needs_background": "light"
     },
     "output_type": "display_data"
    }
   ],
   "source": [
    "# Cauchy with c_constant=1, data with 20% outliers\n",
    "\n",
    "def func_f(w):\n",
    "    return func_cauchy(w, data3, c_constant=1)\n",
    "def grad_f(w):\n",
    "    return grad_cauchy(w, data3, c_constant=1)\n",
    "    \n",
    "w_cauchy_noise20pct = minimize_backtracking_descent([0,0], func_f, grad_f)\n",
    "print('Regression parameters:', w_cauchy_noise20pct)\n",
    "\n",
    "# Scatter plot with regression line\n",
    "data_x = data3[:,0]\n",
    "data_y = data3[:,1]\n",
    "plt.plot(data_x, data_y, '.')\n",
    "plt.plot(data_x, w_cauchy_noise20pct[1] + w_cauchy_noise20pct[0] * data_x, '-')\n",
    "plt.show()"
   ]
  },
  {
   "cell_type": "code",
   "execution_count": 54,
   "metadata": {},
   "outputs": [
    {
     "name": "stdout",
     "output_type": "stream",
     "text": [
      "Regression parameters: [0.97640608 0.05115917]\n"
     ]
    },
    {
     "data": {
      "image/png": "[encoded data removed]",
      "text/plain": [
       "<Figure size 432x288 with 1 Axes>"
      ]
     },
     "metadata": {
      "needs_background": "light"
     },
     "output_type": "display_data"
    }
   ],
   "source": [
    "# Cauchy with c_constant=1, data with 40% outliers\n",
    "\n",
    "def func_f(w):\n",
    "    return func_cauchy(w, data4, c_constant=1)\n",
    "def grad_f(w):\n",
    "    return grad_cauchy(w, data4, c_constant=1)\n",
    "    \n",
    "w_cauchy_noise10pct = minimize_backtracking_descent([0,0], func_f, grad_f)\n",
    "print('Regression parameters:', w_cauchy_noise10pct)\n",
    "\n",
    "# Scatter plot with regression line\n",
    "data_x = data4[:,0]\n",
    "data_y = data4[:,1]\n",
    "plt.plot(data_x, data_y, '.')\n",
    "plt.plot(data_x, w_cauchy_noise10pct[1] + w_cauchy_noise10pct[0] * data_x, '-')\n",
    "plt.show()"
   ]
  },
  {
   "cell_type": "code",
   "execution_count": 55,
   "metadata": {},
   "outputs": [
    {
     "name": "stdout",
     "output_type": "stream",
     "text": [
      "Regression parameters: [1.00701781 0.24442488]\n"
     ]
    },
    {
     "data": {
      "image/png": "[encoded data removed]",
      "text/plain": [
       "<Figure size 432x288 with 1 Axes>"
      ]
     },
     "metadata": {
      "needs_background": "light"
     },
     "output_type": "display_data"
    }
   ],
   "source": [
    "# Cauchy with c_constant=0.01, data with 40% outliers\n",
    "\n",
    "def func_f(w):\n",
    "    return func_cauchy(w, data4, c_constant=0.01)\n",
    "def grad_f(w):\n",
    "    return grad_cauchy(w, data4, c_constant=0.01)\n",
    "    \n",
    "w_cauchy_dot01_noise10pct = minimize_backtracking_descent([0,0], func_f, grad_f, convergence_criterion=1e-12)\n",
    "print('Regression parameters:', w_cauchy_dot01_noise10pct)\n",
    "\n",
    "# Scatter plot with regression line\n",
    "data_x = data4[:,0]\n",
    "data_y = data4[:,1]\n",
    "plt.plot(data_x, data_y, '.')\n",
    "plt.plot(data_x, w_cauchy_dot01_noise10pct[1] + w_cauchy_dot01_noise10pct[0] * data_x, '-')\n",
    "plt.show()"
   ]
  },
  {
   "cell_type": "markdown",
   "metadata": {},
   "source": [
    "**Comments:** The regression using Cauchy with c=1 is still robust in data with even up to 40% of outliers.\n",
    "\n",
    "The regression using Cauchy with c=0.01 is even more robust. In the case with 40% outliers, the slope remains almost the same as before introducing the outliers."
   ]
  },
  {
   "cell_type": "code",
   "execution_count": null,
   "metadata": {},
   "outputs": [],
   "source": []
  }
 ],
 "metadata": {
  "kernelspec": {
   "display_name": "Python 3",
   "language": "python",
   "name": "python3"
  },
  "language_info": {
   "codemirror_mode": {
    "name": "ipython",
    "version": 3
   },
   "file_extension": ".py",
   "mimetype": "text/x-python",
   "name": "python",
   "nbconvert_exporter": "python",
   "pygments_lexer": "ipython3",
   "version": "3.8.3"
  }
 },
 "nbformat": 4,
 "nbformat_minor": 5
}
